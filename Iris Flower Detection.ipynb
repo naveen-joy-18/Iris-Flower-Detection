{
 "cells": [
  {
   "cell_type": "code",
   "execution_count": 2,
   "id": "b9063d2e-eb0f-4d81-af12-8bdb27ea127c",
   "metadata": {},
   "outputs": [
    {
     "name": "stdout",
     "output_type": "stream",
     "text": [
      "Accuracy: 1.0\n"
     ]
    },
    {
     "name": "stdin",
     "output_type": "stream",
     "text": [
      "Enter Sepal Length (cm):  4.8\n",
      "Enter Sepal Width (cm):  3\n",
      "Enter Petal Length (cm):  1.4\n",
      "Enter Petal Width (cm):  0.1\n"
     ]
    },
    {
     "name": "stdout",
     "output_type": "stream",
     "text": [
      "Predicted Iris Species: Iris-setosa\n"
     ]
    },
    {
     "name": "stderr",
     "output_type": "stream",
     "text": [
      "C:\\Users\\navee\\anaconda3\\Lib\\site-packages\\sklearn\\base.py:439: UserWarning: X does not have valid feature names, but DecisionTreeClassifier was fitted with feature names\n",
      "  warnings.warn(\n"
     ]
    }
   ],
   "source": [
    "import pandas as pd\n",
    "from sklearn.model_selection import train_test_split\n",
    "from sklearn.preprocessing import LabelEncoder\n",
    "from sklearn.tree import DecisionTreeClassifier\n",
    "from sklearn.metrics import accuracy_score\n",
    "\n",
    "# Load the dataset\n",
    "data = pd.read_csv(r\"C:\\Users\\navee\\Desktop\\Internship Project\\Iris Flower - Iris.csv\")\n",
    "\n",
    "# Separate features and target variable\n",
    "X = data.drop('Species', axis=1)\n",
    "y = data['Species']\n",
    "\n",
    "# Encode the target variable\n",
    "le = LabelEncoder()\n",
    "y = le.fit_transform(y)\n",
    "\n",
    "# Split the data into training and testing sets\n",
    "X_train, X_test, y_train, y_test = train_test_split(X, y, test_size=0.2, random_state=42)\n",
    "\n",
    "# Initialize the Decision Tree Classifier\n",
    "clf = DecisionTreeClassifier()\n",
    "\n",
    "# Train the model\n",
    "clf.fit(X_train, y_train)\n",
    "\n",
    "# Make predictions\n",
    "predictions = clf.predict(X_test)\n",
    "\n",
    "# Calculate the accuracy of the model\n",
    "accuracy = accuracy_score(y_test, predictions)\n",
    "print(\"Accuracy:\", accuracy)\n",
    "\n",
    "# Function to predict iris species based on user input\n",
    "def predict_species(sepal_length, sepal_width, petal_length, petal_width):\n",
    "    input_data = [[0, sepal_length, sepal_width, petal_length, petal_width]]  # Adjusted to include 5 features\n",
    "    prediction = clf.predict(input_data)\n",
    "    predicted_species = le.inverse_transform(prediction)[0]\n",
    "    return predicted_species\n",
    "\n",
    "# User input for iris measurements\n",
    "sepal_length = float(input(\"Enter Sepal Length (cm): \"))\n",
    "sepal_width = float(input(\"Enter Sepal Width (cm): \"))\n",
    "petal_length = float(input(\"Enter Petal Length (cm): \"))\n",
    "petal_width = float(input(\"Enter Petal Width (cm): \"))\n",
    "\n",
    "# Predict the species of the iris flower based on user input\n",
    "predicted_species = predict_species(sepal_length, sepal_width, petal_length, petal_width)\n",
    "print(\"Predicted Iris Species:\", predicted_species)\n"
   ]
  },
  {
   "cell_type": "code",
   "execution_count": null,
   "id": "bdb6dc2a-b8d7-4166-8928-1ff3c5af904f",
   "metadata": {},
   "outputs": [],
   "source": []
  }
 ],
 "metadata": {
  "kernelspec": {
   "display_name": "Python 3 (ipykernel)",
   "language": "python",
   "name": "python3"
  },
  "language_info": {
   "codemirror_mode": {
    "name": "ipython",
    "version": 3
   },
   "file_extension": ".py",
   "mimetype": "text/x-python",
   "name": "python",
   "nbconvert_exporter": "python",
   "pygments_lexer": "ipython3",
   "version": "3.11.7"
  }
 },
 "nbformat": 4,
 "nbformat_minor": 5
}
